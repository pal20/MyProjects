{
 "cells": [
  {
   "cell_type": "markdown",
   "metadata": {},
   "source": [
    "## Battle of Neighbourhoods - Week 1"
   ]
  },
  {
   "cell_type": "markdown",
   "metadata": {},
   "source": [
    "## Optimal Choice Analysis of Buying House in Nashua, NH\n",
    "## By - Parul Agarwal\n"
   ]
  },
  {
   "cell_type": "markdown",
   "metadata": {},
   "source": [
    "### 1. Introduction\n",
    "#### Description & Discussion of the Background"
   ]
  },
  {
   "cell_type": "markdown",
   "metadata": {},
   "source": [
    "The study of optimal choice analysis of buying house in Nashua, NH is inspired by my friend ‘Emma’ who works with ‘Oracle Corporation’ in Seattle, WA; and is planning to move to ‘Oracle’ office in Nashua, NH. Emma has a daughter who is 5 years old, and when buying a house; proximity of house from office and school with good rating near the house would play a very important role in her decision. \n",
    "\n",
    "Nashua ‘The Gate City’ was twice named the ‘Best Place to Live in America’ in 1987 and again in 1998, and again in year 2017, this city was ranked in top 50 U.S. cities to live. With great neighborhood, extremely low crime rate, excellent schooling, very low-income taxes and being very close to Boston makes Nashua a great city to raise kids, buy properties and even retire.\n",
    "\n",
    "When I talked to Emma, she was excited to move to Nashua, leaving the busy city life and coming to Nashua, and as I have been living in Nashua for last decade; has asked me if I can narrow down the choices and provide her with list of houses that she might be interested in. \n",
    "\n"
   ]
  },
  {
   "cell_type": "markdown",
   "metadata": {
    "collapsed": true
   },
   "source": [
    "### 2. A description of the data and how it will be used to solve the problem\n",
    "\n"
   ]
  },
  {
   "cell_type": "markdown",
   "metadata": {},
   "source": [
    "### 2.1 Description of Data\n",
    "\n",
    "\n"
   ]
  },
  {
   "cell_type": "markdown",
   "metadata": {},
   "source": [
    "To appropriately address Emma’s requests, I approached them as follows:\n",
    "\n",
    "-\tCollected data from ColdwellBankerHomes.com, from which I collected details of houses such as Price, number of bedrooms, location (Latitude, Longitude), Area (Sq. Ft.), zip code and more\n",
    "\n",
    "-\tCarefully inspecting HTML data from the website for search requests, I scraped data using Python and cleaned before storing in appropriate format for further use.\n",
    "\n",
    "-\tThis rich data was overwhelming and Emma is looking for houses with at least 3 bedrooms and price, not more than $400,000. Therefore, I filtered that data to match the needs.\n",
    "\n",
    "-\tWith help of geospatial data (Latitude and Longitude), I plotted the data on the map for better visualization.\n",
    "\n",
    "-\tThis marker for house on sales are added with hover tooltip, to see more details\n",
    "\n",
    "-\tFrom Nashua School District website:  www.nashua.edu, I collected the information about street name and which school they belong to.\n",
    "\n",
    "-\tCombining the data from www.nashua.edu with house listing data fetched from ColdwellBankerHomes.com gave more information about school zone for each house in the market\n",
    "\n",
    "-\tNow it should be easy to filter houses in certain school group which would match Emma’s needs\n",
    "\n",
    "-\tUsing FourSquare.com, I collected venue information relative to geolocation of houses listed and ranked them.\n",
    "\n",
    "-\tFinally, once all of the above data is cleaned and prepared, with the help of Clustering the data, the map would show the clusters of houses which fall in certain school range, and the visualization would be very helpful for Emma to view selective houses of her interest.\n",
    "\n"
   ]
  },
  {
   "cell_type": "markdown",
   "metadata": {},
   "source": [
    "### 2.2 Data Source"
   ]
  },
  {
   "cell_type": "markdown",
   "metadata": {},
   "source": [
    "##### ColdwellBankerHomes.com\n",
    "##### www.nashua.edu\n",
    "##### FourSquare.com"
   ]
  },
  {
   "cell_type": "markdown",
   "metadata": {},
   "source": [
    "### 2.3 Data Detail\n",
    "<h1 align=left><font size = 3>Build data frame from www.coldwellbankerhomes.com for Nashua, NH</font></h1>"
   ]
  },
  {
   "cell_type": "code",
   "execution_count": 2,
   "metadata": {},
   "outputs": [
    {
     "name": "stdout",
     "output_type": "stream",
     "text": [
      "Libraries imported.\n"
     ]
    }
   ],
   "source": [
    "# Load dependencies\n",
    "\n",
    "import pandas as pd \n",
    "pd.set_option('display.max_columns', None)\n",
    "pd.set_option('display.max_rows', None)\n",
    "\n",
    "import requests # library to handle requests\n",
    "from bs4 import BeautifulSoup\n",
    "\n",
    "print('Libraries imported.')"
   ]
  },
  {
   "cell_type": "code",
   "execution_count": null,
   "metadata": {
    "collapsed": true
   },
   "outputs": [],
   "source": []
  }
 ],
 "metadata": {
  "kernelspec": {
   "display_name": "Python 3",
   "language": "python",
   "name": "python3"
  },
  "language_info": {
   "codemirror_mode": {
    "name": "ipython",
    "version": 3
   },
   "file_extension": ".py",
   "mimetype": "text/x-python",
   "name": "python",
   "nbconvert_exporter": "python",
   "pygments_lexer": "ipython3",
   "version": "3.6.7"
  }
 },
 "nbformat": 4,
 "nbformat_minor": 2
}
